{
 "cells": [
  {
   "cell_type": "code",
   "execution_count": 1,
   "metadata": {},
   "outputs": [],
   "source": [
    "import os\n",
    "import tensorflow as tf\n",
    "from tensorflow.keras import Model\n",
    "from tensorflow.keras import layers\n",
    "from tensorflow.keras.optimizers import SGD\n",
    "from tensorflow.keras.preprocessing.image import ImageDataGenerator\n",
    "#from tensorflow.keras.applications.inception_v3 import InceptionV3"
   ]
  },
  {
   "cell_type": "markdown",
   "metadata": {},
   "source": [
    "model = tf.keras.models.Sequential([\n",
    "    tf.keras.layers.Conv2D(16, (3,3), activation='relu', input_shape=(200,200,3)),\n",
    "    tf.keras.layers.MaxPooling2D(2,2),\n",
    "    tf.keras.layers.Conv2D(32,(3,3), activation='relu'),\n",
    "    tf.keras.layers.MaxPooling2D(2,2),\n",
    "    tf.keras.layers.Conv2D(32,(3,3), activation='relu'),\n",
    "    tf.keras.layers.MaxPooling2D(2,2),\n",
    "    tf.keras.layers.Dropout(0.5),\n",
    "    tf.keras.layers.Flatten(),\n",
    "    tf.keras.layers.Dense(1024, activation='relu'),\n",
    "    tf.keras.layers.Dense(2, activation='softmax')])\n",
    "    \n",
    "model.compile(optimizer = 'Adam', \n",
    "              loss = 'sparse_categorical_crossentropy', \n",
    "              metrics = ['accuracy'])"
   ]
  },
  {
   "cell_type": "code",
   "execution_count": 2,
   "metadata": {},
   "outputs": [],
   "source": [
    "model = tf.keras.models.Sequential([\n",
    "    tf.keras.layers.Conv2D(16, (3,3), activation='relu', input_shape=(254,254,3)),\n",
    "    tf.keras.layers.MaxPooling2D(2,2),\n",
    "    tf.keras.layers.Conv2D(32,(3,3), activation='relu'),\n",
    "    tf.keras.layers.MaxPooling2D(2,2),\n",
    "    tf.keras.layers.Conv2D(32,(3,3), activation='relu'),\n",
    "    tf.keras.layers.MaxPooling2D(2,2),\n",
    "    tf.keras.layers.Flatten(),\n",
    "    tf.keras.layers.Dense(1024, activation='relu'),\n",
    "    tf.keras.layers.Dropout(0.2),\n",
    "    tf.keras.layers.Dense(512, activation='relu'),\n",
    "    tf.keras.layers.Dropout(0.1),\n",
    "    tf.keras.layers.Dense(1, activation='sigmoid')])\n",
    "    \n",
    "model.compile(optimizer = SGD(lr=0.01, nesterov=True), \n",
    "              loss = 'binary_crossentropy', \n",
    "              metrics = ['accuracy'])\n",
    "\n",
    "#model.summary()"
   ]
  },
  {
   "cell_type": "code",
   "execution_count": 3,
   "metadata": {},
   "outputs": [
    {
     "name": "stdout",
     "output_type": "stream",
     "text": [
      "Found 5216 images belonging to 2 classes.\n",
      "Found 624 images belonging to 2 classes.\n"
     ]
    }
   ],
   "source": [
    "base_dir = 'data/chest_xray'\n",
    "train_dir = os.path.join(base_dir, 'train')\n",
    "validation_dir = os.path.join(base_dir, 'test')\n",
    "\n",
    "train_datagen = ImageDataGenerator(rescale = 1./255.,\n",
    "                                   rotation_range = 40,\n",
    "                                   width_shift_range = 0.2,\n",
    "                                   height_shift_range = 0.2,\n",
    "                                   shear_range = 0.2,\n",
    "                                   zoom_range = 0.2,\n",
    "                                   horizontal_flip = True)\n",
    "test_datagen = ImageDataGenerator(rescale=1./255)\n",
    "\n",
    "train_generator = train_datagen.flow_from_directory(train_dir, \n",
    "                                                    target_size=(254,254), \n",
    "                                                    batch_size=64, \n",
    "                                                    class_mode='binary')\n",
    "validation_generator = test_datagen.flow_from_directory(validation_dir, \n",
    "                                                        target_size=(254,254), \n",
    "                                                        batch_size=64, \n",
    "                                                        class_mode='binary')"
   ]
  },
  {
   "cell_type": "code",
   "execution_count": null,
   "metadata": {},
   "outputs": [
    {
     "name": "stdout",
     "output_type": "stream",
     "text": [
      "Epoch 1/10\n",
      "11/80 [===>..........................] - ETA: 2:51 - loss: 0.6262 - accuracy: 0.6905"
     ]
    }
   ],
   "source": [
    "history = model.fit(\n",
    "            train_generator,\n",
    "            validation_data = validation_generator,\n",
    "            steps_per_epoch = 80,\n",
    "            epochs = 10,\n",
    "            validation_steps = 9,\n",
    "            verbose = 1)"
   ]
  },
  {
   "cell_type": "markdown",
   "metadata": {},
   "source": [
    "# Model Accuracy"
   ]
  },
  {
   "cell_type": "code",
   "execution_count": null,
   "metadata": {},
   "outputs": [],
   "source": [
    "pred = model.predict(test_generator)                                                        # Create a prediction matrix of the test generator\n",
    "pred = np.round(pred)                                                                       # Round the prediction into either a 1 or 0\n",
    "matrix = confusion_matrix(test_generator.classes, pred)                                     # Create a confusion matrix based on the prediction\n",
    "fig, ax = plt.subplots()                                                                    # Create a matplotlib figure\n",
    "plt.title(\"Confusion Matrix\")                                                               # Add a title to the plot\n",
    "plt.colorbar(plt.imshow(matrix))                                                            # Add a color bar scale to the plot\n",
    "ax.imshow(matrix, cmap = \"cool\")                                                            # Display the confusion matrix\n",
    "ax.axis('off')                                                                              # Disable plot axis\n",
    "for i in range(2):                                                                          # Iterates through the rows\n",
    "    for j in range(2):                                                                      # Iterates through the columns\n",
    "        text = ax.text(j, i, matrix[i, j], ha=\"center\", va=\"center\", color=\"black\")         # Add an annotation to the plot for each element"
   ]
  },
  {
   "cell_type": "code",
   "execution_count": null,
   "metadata": {},
   "outputs": [],
   "source": [
    "TN = matrix[0][0]                                                                           # Take the True Negative value from the confusion matrix\n",
    "TP = matrix[1][1]                                                                           # Take the True Positive value from the confusion matrix\n",
    "FN = matrix[1][0]                                                                           # Take the False Negative value from the confusion matrix\n",
    "FP = matrix[0][1]                                                                           # Take the True Positive value from the confusion matrix\n",
    "print(\"True Negative: {}\\t True Positive: {}\".format(TN,TP))                                # Print the True Negative and True Positive values\n",
    "print(\"False Negative: {}\\t False Positive: {}\\n\".format(FN,FP))                            # Print the False Negative and False Positive values\n",
    "print(\"False Positive Rate: {:.4f}\".format(FP/(FP+TN)))                                     # Print the False Positive Rate\n",
    "print(\"False Negative Rate: {:.4f}\\n\".format(FN/(FN+TP)))                                   # Print the False Negative Rate\n",
    "print(\"Test Accuracy: {:.5f}\".format((TP+TN)/(TP+TN+FN+FP)))                                # Print the test accuracy of the model"
   ]
  },
  {
   "cell_type": "markdown",
   "metadata": {},
   "source": [
    "## Let's get interactive"
   ]
  },
  {
   "cell_type": "code",
   "execution_count": null,
   "metadata": {},
   "outputs": [],
   "source": [
    "prediction_generator = test_datagen.flow_from_directory('data',                     # Connects the testing image data generator to the prediction images' directory.\n",
    "                                                        target_size=(200,200),      # Sets the target size of the images to be 200x200.\n",
    "                                                        batch_size=1,               # Sets the number of images to be generated per batch.\n",
    "                                                        classes=['prediction'],     # Import only the images in prediction folder\n",
    "                                                        class_mode='binary')        # Sets the classification mode to be binary since the predictions only consists of 2 classes.\n",
    "\n",
    "plt.imshow(prediction_generator[0][0].squeeze())                                    # Plot the prediction image\n",
    "plt.axis(\"off\")                                                                     # Disable plot axis\n",
    "pneumonia_prob = model.predict(prediction_generator).squeeze()                      # Predict the pneumonia probability\n",
    "normal_prob = 1-pneumonia_prob                                                      # Calculate the normal probability\n",
    "\n",
    "print(\"Probability of Pneumonia: {:.3f}% \\nProbability of normal: {:.3f}%\".format(pneumonia_prob*100,normal_prob*100)) # Print the predictions"
   ]
  },
  {
   "cell_type": "code",
   "execution_count": null,
   "metadata": {},
   "outputs": [],
   "source": []
  },
  {
   "cell_type": "code",
   "execution_count": null,
   "metadata": {},
   "outputs": [],
   "source": []
  }
 ],
 "metadata": {
  "kernelspec": {
   "display_name": "Python 3",
   "language": "python",
   "name": "python3"
  },
  "language_info": {
   "codemirror_mode": {
    "name": "ipython",
    "version": 3
   },
   "file_extension": ".py",
   "mimetype": "text/x-python",
   "name": "python",
   "nbconvert_exporter": "python",
   "pygments_lexer": "ipython3",
   "version": "3.7.6"
  }
 },
 "nbformat": 4,
 "nbformat_minor": 4
}
